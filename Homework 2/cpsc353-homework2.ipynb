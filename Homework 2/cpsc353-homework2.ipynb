{
 "cells": [
  {
   "cell_type": "markdown",
   "id": "1a2b3c4d",
   "metadata": {},
   "source": [
    "# Caesar Cipher Implementation and Security Analysis\n",
    "## Gabe DiMartino\n",
    "\n",
    "This notebook implements a Caesar cipher with an extended alphabet (A-Z plus space), demonstrates all possible cipher texts for given messages, and proposes the best case scenario for a Caesar cipher with perfect secrecy."
   ]
  },
  {
   "cell_type": "markdown",
   "id": "2b3c4d5e",
   "metadata": {},
   "source": [
    "## 1. Setup and Constants"
   ]
  },
  {
   "cell_type": "code",
   "execution_count": 13,
   "id": "3c4d5e6f",
   "metadata": {},
   "outputs": [
    {
     "name": "stdout",
     "output_type": "stream",
     "text": [
      "Alphabet length: 27\n",
      "Character to number mapping (first 5): {'A': 0, 'B': 1, 'C': 2, 'D': 3, 'E': 4}\n",
      "Space character maps to: 26\n"
     ]
    }
   ],
   "source": [
    "# Define the alphabet including space character\n",
    "ALPHABET = \"ABCDEFGHIJKLMNOPQRSTUVWXYZ \"\n",
    "\n",
    "# Create bidirectional mappings between characters and numbers\n",
    "CHAR_TO_NUM = {char: i for i, char in enumerate(ALPHABET)}\n",
    "NUM_TO_CHAR = list(ALPHABET)\n",
    "\n",
    "# Display the mappings\n",
    "print(\"Alphabet length:\", len(ALPHABET))\n",
    "print(\"Character to number mapping (first 5):\", \n",
    "      {k: v for k, v in list(CHAR_TO_NUM.items())[:5]})\n",
    "print(\"Space character maps to:\", CHAR_TO_NUM[' '])"
   ]
  },
  {
   "cell_type": "markdown",
   "id": "4d5e6f7a",
   "metadata": {},
   "source": [
    "## 2. Core Caesar Cipher Implementation\n",
    "\n",
    "The Caesar cipher shifts each character by a fixed amount determined by the key character."
   ]
  },
  {
   "cell_type": "code",
   "execution_count": 14,
   "id": "5e6f7a8b",
   "metadata": {},
   "outputs": [],
   "source": [
    "def caesar_cipher(message, key):\n",
    "    shift = CHAR_TO_NUM[key]\n",
    "    encrypted_message = \"\"\n",
    "    \n",
    "    for char in message:\n",
    "        if char not in CHAR_TO_NUM:\n",
    "            raise ValueError(f\"Character '{char}' in message is not in the alphabet\")\n",
    "        \n",
    "        char_num = CHAR_TO_NUM[char]\n",
    "        encrypted_num = (char_num + shift) % 27\n",
    "        encrypted_message += NUM_TO_CHAR[encrypted_num]\n",
    "    \n",
    "    return encrypted_message"
   ]
  },
  {
   "cell_type": "code",
   "execution_count": 15,
   "id": "6f7a8b9c",
   "metadata": {},
   "outputs": [
    {
     "name": "stdout",
     "output_type": "stream",
     "text": [
      "Original message: 'HELLO'\n",
      "Encrypted with key 'A' (shift 0): 'HELLO'\n",
      "Encrypted with key 'D' (shift 3): 'KHOOR'\n",
      "Encrypted with key 'Z' (shift 25): 'FCJJM'\n"
     ]
    }
   ],
   "source": [
    "test_message = \"HELLO\"\n",
    "print(f\"Original message: '{test_message}'\")\n",
    "print(f\"Encrypted with key 'A' (shift 0): '{caesar_cipher(test_message, 'A')}'\")\n",
    "print(f\"Encrypted with key 'D' (shift 3): '{caesar_cipher(test_message, 'D')}'\")\n",
    "print(f\"Encrypted with key 'Z' (shift 25): '{caesar_cipher(test_message, 'Z')}'\")"
   ]
  },
  {
   "cell_type": "markdown",
   "id": "7a8b9c0d",
   "metadata": {},
   "source": [
    "## 3. Finding Encryption Keys\n",
    "\n",
    "This function determines which key (if any) would encrypt a given message to produce a target ciphertext. (To be used in part 3)"
   ]
  },
  {
   "cell_type": "code",
   "execution_count": 16,
   "id": "8b9c0d1e",
   "metadata": {},
   "outputs": [],
   "source": [
    "def find_key_for_encryption(message, target):\n",
    "    if len(message) != len(target):\n",
    "        return None\n",
    "    \n",
    "    # Calculate required shift from first character\n",
    "    shift = (CHAR_TO_NUM[target[0]] - CHAR_TO_NUM[message[0]]) % 27\n",
    "    \n",
    "    # Verify shift works for all characters\n",
    "    for i in range(len(message)):\n",
    "        expected_shift = (CHAR_TO_NUM[target[i]] - CHAR_TO_NUM[message[i]]) % 27\n",
    "        if expected_shift != shift:\n",
    "            return None\n",
    "    \n",
    "    return NUM_TO_CHAR[shift]"
   ]
  },
  {
   "cell_type": "code",
   "execution_count": 17,
   "id": "9c0d1e2f",
   "metadata": {},
   "outputs": [
    {
     "name": "stdout",
     "output_type": "stream",
     "text": [
      "Key to encrypt 'HELLO' to 'KHOOR': 'D'\n",
      "Verification: KHOOR\n"
     ]
    }
   ],
   "source": [
    "# Example: Find key to encrypt \"HELLO\" to \"KHOOR\"\n",
    "key = find_key_for_encryption(\"HELLO\", \"KHOOR\")\n",
    "print(f\"Key to encrypt 'HELLO' to 'KHOOR': '{key}'\")\n",
    "print(f\"Verification: {caesar_cipher('HELLO', key)}\")"
   ]
  },
  {
   "cell_type": "markdown",
   "id": "0d1e2f3a",
   "metadata": {},
   "source": [
    "## 4. Generating All Possible Ciphertexts For A Singular Message\n",
    "\n",
    "For a given message, this function can generate all 27 possible ciphertexts (one for each key in the alphabet)."
   ]
  },
  {
   "cell_type": "code",
   "execution_count": 18,
   "id": "d1e2f3a4",
   "metadata": {},
   "outputs": [],
   "source": [
    "def generate_all_ciphertexts(message):\n",
    "    ciphertexts = {}\n",
    "    for key in ALPHABET:\n",
    "        ciphertext = caesar_cipher(message, key)\n",
    "        ciphertexts[key] = ciphertext\n",
    "    return ciphertexts"
   ]
  },
  {
   "cell_type": "code",
   "execution_count": 19,
   "id": "e2f3a4b5",
   "metadata": {},
   "outputs": [
    {
     "name": "stdout",
     "output_type": "stream",
     "text": [
      "All ciphertexts for 'GO ZAGS':\n",
      "==================================================\n",
      "Key: A     (shift= 0) -> 'GO ZAGS'\n",
      "Key: B     (shift= 1) -> 'HPA BHT'\n",
      "Key: C     (shift= 2) -> 'IQBACIU'\n",
      "Key: D     (shift= 3) -> 'JRCBDJV'\n",
      "Key: E     (shift= 4) -> 'KSDCEKW'\n",
      "Key: F     (shift= 5) -> 'LTEDFLX'\n",
      "... (21 more ciphertexts)\n"
     ]
    }
   ],
   "source": [
    "# Generate all ciphertexts for \"GO ZAGS\"\n",
    "message = \"GO ZAGS\"\n",
    "all_ciphertexts = generate_all_ciphertexts(message)\n",
    "\n",
    "print(f\"All ciphertexts for '{message}':\")\n",
    "print(\"=\" * 50)\n",
    "for i, (key, ciphertext) in enumerate(all_ciphertexts.items()):\n",
    "    key_display = \"SPACE\" if key == \" \" else key\n",
    "    shift = CHAR_TO_NUM[key]\n",
    "    print(f\"Key: {key_display:5} (shift={shift:2}) -> '{ciphertext}'\")\n",
    "    if i >= 5:\n",
    "        print(\"... (21 more ciphertexts)\")\n",
    "        break"
   ]
  },
  {
   "cell_type": "code",
   "execution_count": 20,
   "id": "f3a4b5c6",
   "metadata": {},
   "outputs": [],
   "source": [
    "def write_ciphertexts_to_file(filename, message, ciphertexts):\n",
    "    with open(filename, 'w') as f:\n",
    "        f.write(f\"All possible ciphertexts for message: '{message}'\\n\")\n",
    "        f.write(\"=\" * 60 + \"\\n\\n\")\n",
    "        \n",
    "        for key in ALPHABET:\n",
    "            shift = CHAR_TO_NUM[key]\n",
    "            key_display = \"SPACE\" if key == \" \" else key\n",
    "            f.write(f\"Key: {key_display:5} (shift={shift:2}) -> '{ciphertexts[key]}'\\n\")"
   ]
  },
  {
   "cell_type": "markdown",
   "id": "3a4b5c6d",
   "metadata": {},
   "source": [
    "## 5. Finding Common Ciphertexts\n",
    "\n",
    "A set of messages is \"semantically secure\" if there exists a ciphertext that could be the encryption of any message in the set (under different keys). This demonstrates perfect secrecy, an adversary seeing the ciphertext cannot determine which original message was encrypted. (This will be important for Part 3)"
   ]
  },
  {
   "cell_type": "code",
   "execution_count": 21,
   "id": "4b5c6d7e",
   "metadata": {},
   "outputs": [],
   "source": [
    "def find_common_ciphertext(messages):\n",
    "    # Check all messages have same length\n",
    "    message_length = len(messages[0])\n",
    "    if not all(len(msg) == message_length for msg in messages):\n",
    "        print(\"Error: All messages must have the same length\")\n",
    "        return None\n",
    "    \n",
    "    # Try each possible target ciphertext\n",
    "    for test_key in ALPHABET:\n",
    "        target = caesar_cipher(messages[0], test_key)\n",
    "        \n",
    "        key_mappings = {}\n",
    "        all_can_reach = True\n",
    "        \n",
    "        # Check if all messages can reach this target\n",
    "        for msg in messages:\n",
    "            key = find_key_for_encryption(msg, target)\n",
    "            if key is None:\n",
    "                all_can_reach = False\n",
    "                break\n",
    "            else:\n",
    "                key_mappings[msg] = key\n",
    "        \n",
    "        if all_can_reach:\n",
    "            return (target, key_mappings)\n",
    "    \n",
    "    return None"
   ]
  },
  {
   "cell_type": "code",
   "execution_count": 22,
   "id": "5c6d7e8f",
   "metadata": {},
   "outputs": [],
   "source": [
    "def demonstrate_secure_message_set(messages, target_ciphertext, output_file):\n",
    "    with open(output_file, 'w') as f:\n",
    "        f.write(\"SEMANTICALLY INTERESTING AND SECURE \\n\")\n",
    "        f.write(\"=\" * 60 + \"\\n\\n\")\n",
    "        f.write(f\"Message Space: {messages}\\n\")\n",
    "        f.write(f\"Target Ciphertext: '{target_ciphertext}'\\n\")\n",
    "        f.write(\"-\" * 60 + \"\\n\\n\")\n",
    "        \n",
    "        valid_mappings = []\n",
    "        \n",
    "        for msg in messages:\n",
    "            key = find_key_for_encryption(msg, target_ciphertext)\n",
    "            if key:\n",
    "                encrypted = caesar_cipher(msg, key)\n",
    "                shift = CHAR_TO_NUM[key]\n",
    "                key_display = \"SPACE\" if key == \" \" else key\n",
    "                \n",
    "                f.write(f\"Message: '{msg}'\\n\")\n",
    "                f.write(f\"  Key: '{key_display}' (shift = {shift})\\n\")\n",
    "                f.write(f\"  Encrypts to: '{encrypted}'\\n\")\n",
    "                f.write(f\"  Verification: '{encrypted}' == '{target_ciphertext}' -> {encrypted == target_ciphertext}\\n\\n\")\n",
    "                \n",
    "                valid_mappings.append((msg, key))"
   ]
  },
  {
   "cell_type": "markdown",
   "id": "6d7e8f9a",
   "metadata": {},
   "source": [
    "## 6. Part 2: Generating All Possible Ciphertexts"
   ]
  },
  {
   "cell_type": "code",
   "execution_count": null,
   "id": "7e8f9a0b",
   "metadata": {},
   "outputs": [
    {
     "name": "stdout",
     "output_type": "stream",
     "text": [
      "======================================================================\n",
      "PART 2: GENERATING ALL POSSIBLE CIPHERTEXTS\n",
      "======================================================================\n",
      "\n",
      "\n",
      "Message: 'GO ZAGS'\n",
      "----------------------------------------\n",
      "✓ Written all 27 ciphertexts to 'ciphertexts_GO_ZAGS.txt'\n",
      "\n",
      "Sample ciphertexts:\n",
      "  Key A: 'GO ZAGS'\n",
      "  Key D: 'JRCBDJV'\n",
      "  Key K: 'QYJIKQB'\n",
      "  Key Z: 'EMYXZEQ'\n",
      "  Key SPACE: 'FNZY FR'\n",
      "\n",
      "Message: 'MESSAGE'\n",
      "----------------------------------------\n",
      "✓ Written all 27 ciphertexts to 'ciphertexts_MESSAGE.txt'\n",
      "\n",
      "Sample ciphertexts:\n",
      "  Key A: 'MESSAGE'\n",
      "  Key D: 'PHVVDJH'\n",
      "  Key K: 'WOBBKQO'\n",
      "  Key Z: 'KCQQZEC'\n",
      "  Key SPACE: 'LDRR FD'\n",
      "\n",
      "Message: 'KRYPTOS'\n",
      "----------------------------------------\n",
      "✓ Written all 27 ciphertexts to 'ciphertexts_KRYPTOS.txt'\n",
      "\n",
      "Sample ciphertexts:\n",
      "  Key A: 'KRYPTOS'\n",
      "  Key D: 'NUASWRV'\n",
      "  Key K: 'UAHZCYB'\n",
      "  Key Z: 'IPWNRMQ'\n",
      "  Key SPACE: 'JQXOSNR'\n"
     ]
    }
   ],
   "source": [
    "print(\"=\" * 70)\n",
    "print(\"PART 2: GENERATING ALL POSSIBLE CIPHERTEXTS\")\n",
    "print(\"=\" * 70)\n",
    "print()\n",
    "\n",
    "# Messages to encrypt\n",
    "messages_to_encrypt = [\"GO ZAGS\", \"MESSAGE\", \"KRYPTOS\"]\n",
    "\n",
    "for msg in messages_to_encrypt:\n",
    "    print(f\"\\nMessage: '{msg}'\")\n",
    "    print(\"-\" * 40)\n",
    "    \n",
    "    ciphertexts = generate_all_ciphertexts(msg)\n",
    "    \n",
    "    filename = f\"ciphertexts_{msg.replace(' ', '_')}.txt\"\n",
    "    write_ciphertexts_to_file(filename, msg, ciphertexts)\n",
    "    print(f\"✓ Written all 27 ciphertexts to '{filename}'\")\n",
    "    \n",
    "    print(\"\\nSample ciphertexts:\")\n",
    "    sample_keys = ['A', 'D', 'K', 'Z', ' ']\n",
    "    for key in sample_keys:\n",
    "        key_display = \"SPACE\" if key == \" \" else key\n",
    "        print(f\"  Key {key_display}: '{ciphertexts[key]}'\")"
   ]
  },
  {
   "cell_type": "markdown",
   "id": "8f9a0b1c",
   "metadata": {},
   "source": [
    "## 7. Part 3: Secure Message Set"
   ]
  },
  {
   "cell_type": "markdown",
   "id": "79c661e0",
   "metadata": {},
   "source": [
    "For this section it is important to note that only very specific words in the English Language can be used due to the spacing between letters. In order to satisfy the constraints of a Caesar cipher, the steps between each letter need to be the same for each message in the message space. Using a python helper function I queried the dictionary and went through every possible cipher text for every word in the English Language. Out of 370,000+ words only 37 sets of 3+ existed."
   ]
  },
  {
   "cell_type": "code",
   "execution_count": 24,
   "id": "9a0b1c2d",
   "metadata": {},
   "outputs": [
    {
     "name": "stdout",
     "output_type": "stream",
     "text": [
      "\n",
      "======================================================================\n",
      "PART 3: SECURE MESSAGE SET\n",
      "======================================================================\n",
      "\n",
      "Messages: ['CHEER', 'DIFFS', 'JOLLY']\n",
      "Common Ciphertext Found: 'CHEER'\n",
      "\n",
      "Key Mappings:\n",
      "  'CHEER' + Key 'A' (shift  0) -> 'CHEER'\n",
      "  'DIFFS' + Key 'SPACE' (shift 26) -> 'CHEER'\n",
      "  'JOLLY' + Key 'U' (shift 20) -> 'CHEER'\n"
     ]
    }
   ],
   "source": [
    "print(\"\\n\" + \"=\" * 70)\n",
    "print(\"PART 3: SECURE MESSAGE SET\")\n",
    "print(\"=\" * 70)\n",
    "print()\n",
    "\n",
    "secure_messages = [\"CHEER\", \"DIFFS\", \"JOLLY\"]\n",
    "\n",
    "result = find_common_ciphertext(secure_messages)\n",
    "\n",
    "if result:\n",
    "    target, key_mappings = result\n",
    "    print(f\"Messages: {secure_messages}\")\n",
    "    print(f\"Common Ciphertext Found: '{target}'\")\n",
    "    print(\"\\nKey Mappings:\")\n",
    "    for msg, key in key_mappings.items():\n",
    "        shift = CHAR_TO_NUM[key]\n",
    "        key_display = \"SPACE\" if key == \" \" else key\n",
    "        encrypted = caesar_cipher(msg, key)\n",
    "        print(f\"  '{msg}' + Key '{key_display}' (shift {shift:2}) -> '{encrypted}'\")\n",
    "    \n",
    "    demonstrate_secure_message_set(secure_messages, target, \"secure_message_demonstration.txt\")\n",
    "else:\n",
    "    print(\"No common ciphertext could be found for the given messages.\")"
   ]
  },
  {
   "cell_type": "markdown",
   "id": "a0b1c2d3",
   "metadata": {},
   "source": [
    "## 8. Security Analysis\n",
    "\n",
    "The demonstration above shows a fundamental concept in cryptography: **perfect secrecy**. When an adversary intercepts the ciphertext 'CHEER', they cannot determine which of the three messages was originally sent. Returning to the probability statement from class:\n",
    "Pr(Message = M | Cipher = C) = Pr(Message = M) is satisfied. This is because the cipher text gives no context of the message. Each message is equally likely if the key was chosen uniformly at random. \n",
    "\n",
    "### Key Observations:\n",
    "- All three different messages ('CHEER', 'DIFFS', 'JOLLY') can produce the same ciphertext 'CHEER'\n",
    "- Each uses a different key (A, SPACE, and U respectively)\n",
    "- The Caesar cipher achieves perfect secrecy when the key space equals the message space size\n",
    "- This is now a key distribution problem ensuring all parties with a need to know get the correct key to decipher the correct message."
   ]
  }
 ],
 "metadata": {
  "kernelspec": {
   "display_name": "dev",
   "language": "python",
   "name": "python3"
  },
  "language_info": {
   "codemirror_mode": {
    "name": "ipython",
    "version": 3
   },
   "file_extension": ".py",
   "mimetype": "text/x-python",
   "name": "python",
   "nbconvert_exporter": "python",
   "pygments_lexer": "ipython3",
   "version": "3.11.13"
  }
 },
 "nbformat": 4,
 "nbformat_minor": 5
}
